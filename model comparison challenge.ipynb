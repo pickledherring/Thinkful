{
 "cells": [
  {
   "cell_type": "code",
   "execution_count": 1,
   "metadata": {},
   "outputs": [],
   "source": [
    "import pandas as pd\n",
    "from sklearn import neighbors\n",
    "from sklearn.model_selection import cross_val_score\n",
    "from sklearn.linear_model import LinearRegression"
   ]
  },
  {
   "cell_type": "code",
   "execution_count": 2,
   "metadata": {},
   "outputs": [],
   "source": [
    "df = pd.read_csv('data/wine.csv')\n",
    "df = df[['points', 'price']].dropna()"
   ]
  },
  {
   "cell_type": "markdown",
   "metadata": {},
   "source": [
    "Find a data set and build a KNN Regression and an OLS regression. Compare the two. How similar are they? Do they miss in different ways?\n",
    "\n",
    "Create a Jupyter notebook with your models. At the end in a markdown cell write a few paragraphs to describe the models' behaviors and why you favor one model or the other. Try to determine whether there is a situation where you would change your mind, or whether one is unambiguously better than the other. Lastly, try to note what it is about the data that causes the better model to outperform the weaker model."
   ]
  },
  {
   "cell_type": "code",
   "execution_count": 3,
   "metadata": {},
   "outputs": [
    {
     "name": "stdout",
     "output_type": "stream",
     "text": [
      "0.019476074008238888\n",
      "[0.28625357 0.26330589 0.29725623 0.32275116 0.30158179]\n"
     ]
    }
   ],
   "source": [
    "knn = neighbors.KNeighborsRegressor(n_neighbors=10)\n",
    "X = pd.DataFrame(df.price)\n",
    "Y = df.points\n",
    "knn.fit(X, Y)\n",
    "score = cross_val_score(knn, X, Y, cv=5)\n",
    "print(score.std())\n",
    "print(score)"
   ]
  },
  {
   "cell_type": "code",
   "execution_count": 4,
   "metadata": {},
   "outputs": [
    {
     "name": "stdout",
     "output_type": "stream",
     "text": [
      "0.045706763545808715\n",
      "[0.13190959 0.13348636 0.23707324 0.22283234 0.21457439]\n"
     ]
    }
   ],
   "source": [
    "ols = LinearRegression()\n",
    "X = pd.DataFrame(df.price)\n",
    "Y = df.points\n",
    "ols.fit(X, Y)\n",
    "score = cross_val_score(ols, X, Y, cv=5)\n",
    "print(score.std())\n",
    "print(score)"
   ]
  },
  {
   "cell_type": "markdown",
   "metadata": {},
   "source": [
    "knn certainly functions better in this case, as I would expect it to. The r-squared is higher and the variance is lower on the knn model. Seeing how the knn model is tailored around each group of points vs. ols's generalized line, I would expect knn to almost always function better. It is slower, which makes it less valuable for large datasets that have a strong linear relationship between the features and the target. I could also see the knn model suffering from overfitting easily. In that case, it may be better to go for a larger number of neighbors when the data is erratic. In general, however, knn seems to be the way to go."
   ]
  }
 ],
 "metadata": {
  "kernelspec": {
   "display_name": "Python 3",
   "language": "python",
   "name": "python3"
  },
  "language_info": {
   "codemirror_mode": {
    "name": "ipython",
    "version": 3
   },
   "file_extension": ".py",
   "mimetype": "text/x-python",
   "name": "python",
   "nbconvert_exporter": "python",
   "pygments_lexer": "ipython3",
   "version": "3.7.4"
  }
 },
 "nbformat": 4,
 "nbformat_minor": 2
}
