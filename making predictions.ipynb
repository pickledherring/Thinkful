{
 "cells": [
  {
   "cell_type": "code",
   "execution_count": 1,
   "metadata": {},
   "outputs": [],
   "source": [
    "import numpy as np\n",
    "import pandas as pd\n",
    "from sklearn.model_selection import train_test_split\n",
    "from sklearn.metrics import mean_absolute_error\n",
    "import statsmodels.api as sm\n",
    "from statsmodels.tools.eval_measures import mse, rmse\n",
    "from sqlalchemy import create_engine\n",
    "\n",
    "import warnings\n",
    "warnings.filterwarnings(action=\"ignore\")"
   ]
  },
  {
   "cell_type": "markdown",
   "metadata": {},
   "source": [
    "Load the houseprices data from Thinkful's database."
   ]
  },
  {
   "cell_type": "code",
   "execution_count": 2,
   "metadata": {},
   "outputs": [],
   "source": [
    "postgres_user = 'dsbc_student'\n",
    "postgres_pw = '7*.8G9QH21'\n",
    "postgres_host = '142.93.121.174'\n",
    "postgres_port = '5432'\n",
    "postgres_db = 'houseprices'\n",
    "\n",
    "engine = create_engine('postgresql://{}:{}@{}:{}/{}'.format(\n",
    "    postgres_user, postgres_pw, postgres_host, postgres_port, postgres_db))\n",
    "df = pd.read_sql_query('select * from houseprices',con=engine)\n",
    "engine.dispose()"
   ]
  },
  {
   "cell_type": "code",
   "execution_count": 3,
   "metadata": {},
   "outputs": [],
   "source": [
    "## Fill continuous variable null values with zero\n",
    "for column in ['masvnrarea', 'lotfrontage', 'garagecars']:\n",
    "    df[column] = df[column].fillna(0)\n",
    "    \n",
    "indexes = df[df.garageyrblt == 'None'].index\n",
    "df.loc[indexes, ['garageyrblt']] = 1980\n",
    "df['garageyrblt'] = pd.to_numeric(df['garageyrblt'])\n",
    "\n",
    "## Fill all null values with 'none'\n",
    "df = df.fillna('None')"
   ]
  },
  {
   "cell_type": "code",
   "execution_count": 7,
   "metadata": {},
   "outputs": [],
   "source": [
    "df['ttl_sq_ft'] = df.totalbsmtsf + df.firstflrsf + df.secondflrsf\n",
    "df['sqfXqual'] = df.ttl_sq_ft * df.overallqual\n",
    "df = pd.concat([df, pd.get_dummies(df.mszoning, drop_first=True)], axis=1)\n",
    "\n",
    "df2 = df[['yearbuilt', 'yearremodadd', 'bsmtfinsf1', 'fireplaces', 'garagecars',\n",
    "          'wooddecksf', 'secondflrsf', 'FV', 'RH', 'RL', 'RM',\n",
    "          'saleprice', 'ttl_sq_ft', 'sqfXqual', 'masvnrarea']]"
   ]
  },
  {
   "cell_type": "markdown",
   "metadata": {},
   "source": [
    "Split your data into train and test sets."
   ]
  },
  {
   "cell_type": "code",
   "execution_count": 15,
   "metadata": {},
   "outputs": [],
   "source": [
    "Y = df2.saleprice\n",
    "X = df2.drop(columns = ['saleprice'])\n",
    "X_train, X_test, Y_train, Y_test = train_test_split(X, Y, test_size = .02, random_state = 390)"
   ]
  },
  {
   "cell_type": "markdown",
   "metadata": {},
   "source": [
    "Estimate your model from the previous checkpoint in the train set. Assess the goodness of fit of your model."
   ]
  },
  {
   "cell_type": "code",
   "execution_count": 16,
   "metadata": {},
   "outputs": [
    {
     "data": {
      "text/html": [
       "<table class=\"simpletable\">\n",
       "<caption>OLS Regression Results</caption>\n",
       "<tr>\n",
       "  <th>Dep. Variable:</th>        <td>saleprice</td>    <th>  R-squared:         </th> <td>   0.795</td> \n",
       "</tr>\n",
       "<tr>\n",
       "  <th>Model:</th>                   <td>OLS</td>       <th>  Adj. R-squared:    </th> <td>   0.793</td> \n",
       "</tr>\n",
       "<tr>\n",
       "  <th>Method:</th>             <td>Least Squares</td>  <th>  F-statistic:       </th> <td>   422.7</td> \n",
       "</tr>\n",
       "<tr>\n",
       "  <th>Date:</th>             <td>Sun, 18 Aug 2019</td> <th>  Prob (F-statistic):</th>  <td>  0.00</td>  \n",
       "</tr>\n",
       "<tr>\n",
       "  <th>Time:</th>                 <td>17:30:57</td>     <th>  Log-Likelihood:    </th> <td> -17030.</td> \n",
       "</tr>\n",
       "<tr>\n",
       "  <th>No. Observations:</th>      <td>  1430</td>      <th>  AIC:               </th> <td>3.409e+04</td>\n",
       "</tr>\n",
       "<tr>\n",
       "  <th>Df Residuals:</th>          <td>  1416</td>      <th>  BIC:               </th> <td>3.416e+04</td>\n",
       "</tr>\n",
       "<tr>\n",
       "  <th>Df Model:</th>              <td>    13</td>      <th>                     </th>     <td> </td>    \n",
       "</tr>\n",
       "<tr>\n",
       "  <th>Covariance Type:</th>      <td>nonrobust</td>    <th>                     </th>     <td> </td>    \n",
       "</tr>\n",
       "</table>\n",
       "<table class=\"simpletable\">\n",
       "<tr>\n",
       "        <td></td>          <th>coef</th>     <th>std err</th>      <th>t</th>      <th>P>|t|</th>  <th>[0.025</th>    <th>0.975]</th>  \n",
       "</tr>\n",
       "<tr>\n",
       "  <th>const</th>        <td>-8.911e+05</td> <td>  1.2e+05</td> <td>   -7.452</td> <td> 0.000</td> <td>-1.13e+06</td> <td>-6.57e+05</td>\n",
       "</tr>\n",
       "<tr>\n",
       "  <th>yearbuilt</th>    <td>   70.4342</td> <td>   48.309</td> <td>    1.458</td> <td> 0.145</td> <td>  -24.330</td> <td>  165.198</td>\n",
       "</tr>\n",
       "<tr>\n",
       "  <th>yearremodadd</th> <td>  398.6370</td> <td>   60.812</td> <td>    6.555</td> <td> 0.000</td> <td>  279.345</td> <td>  517.929</td>\n",
       "</tr>\n",
       "<tr>\n",
       "  <th>bsmtfinsf1</th>   <td>   11.4324</td> <td>    2.481</td> <td>    4.609</td> <td> 0.000</td> <td>    6.566</td> <td>   16.299</td>\n",
       "</tr>\n",
       "<tr>\n",
       "  <th>fireplaces</th>   <td> 1.002e+04</td> <td> 1736.375</td> <td>    5.768</td> <td> 0.000</td> <td> 6609.568</td> <td> 1.34e+04</td>\n",
       "</tr>\n",
       "<tr>\n",
       "  <th>garagecars</th>   <td> 1.653e+04</td> <td> 1723.117</td> <td>    9.594</td> <td> 0.000</td> <td> 1.32e+04</td> <td> 1.99e+04</td>\n",
       "</tr>\n",
       "<tr>\n",
       "  <th>wooddecksf</th>   <td>   30.7289</td> <td>    8.200</td> <td>    3.747</td> <td> 0.000</td> <td>   14.643</td> <td>   46.815</td>\n",
       "</tr>\n",
       "<tr>\n",
       "  <th>secondflrsf</th>  <td>   14.3229</td> <td>    2.524</td> <td>    5.675</td> <td> 0.000</td> <td>    9.372</td> <td>   19.274</td>\n",
       "</tr>\n",
       "<tr>\n",
       "  <th>FV</th>           <td> 2.674e+04</td> <td> 1.32e+04</td> <td>    2.021</td> <td> 0.043</td> <td>  784.780</td> <td> 5.27e+04</td>\n",
       "</tr>\n",
       "<tr>\n",
       "  <th>RH</th>           <td> 2.121e+04</td> <td> 1.51e+04</td> <td>    1.403</td> <td> 0.161</td> <td>-8450.376</td> <td> 5.09e+04</td>\n",
       "</tr>\n",
       "<tr>\n",
       "  <th>RL</th>           <td> 2.627e+04</td> <td> 1.23e+04</td> <td>    2.141</td> <td> 0.032</td> <td> 2199.538</td> <td> 5.03e+04</td>\n",
       "</tr>\n",
       "<tr>\n",
       "  <th>RM</th>           <td> 1.032e+04</td> <td> 1.23e+04</td> <td>    0.836</td> <td> 0.403</td> <td>-1.39e+04</td> <td> 3.45e+04</td>\n",
       "</tr>\n",
       "<tr>\n",
       "  <th>ttl_sq_ft</th>    <td>  -16.0788</td> <td>    3.654</td> <td>   -4.400</td> <td> 0.000</td> <td>  -23.247</td> <td>   -8.910</td>\n",
       "</tr>\n",
       "<tr>\n",
       "  <th>sqfXqual</th>     <td>    6.7719</td> <td>    0.364</td> <td>   18.599</td> <td> 0.000</td> <td>    6.058</td> <td>    7.486</td>\n",
       "</tr>\n",
       "</table>\n",
       "<table class=\"simpletable\">\n",
       "<tr>\n",
       "  <th>Omnibus:</th>       <td>1520.240</td> <th>  Durbin-Watson:     </th>  <td>   2.046</td> \n",
       "</tr>\n",
       "<tr>\n",
       "  <th>Prob(Omnibus):</th>  <td> 0.000</td>  <th>  Jarque-Bera (JB):  </th> <td>606122.471</td>\n",
       "</tr>\n",
       "<tr>\n",
       "  <th>Skew:</th>           <td>-4.462</td>  <th>  Prob(JB):          </th>  <td>    0.00</td> \n",
       "</tr>\n",
       "<tr>\n",
       "  <th>Kurtosis:</th>       <td>103.464</td> <th>  Cond. No.          </th>  <td>2.37e+06</td> \n",
       "</tr>\n",
       "</table><br/><br/>Warnings:<br/>[1] Standard Errors assume that the covariance matrix of the errors is correctly specified.<br/>[2] The condition number is large, 2.37e+06. This might indicate that there are<br/>strong multicollinearity or other numerical problems."
      ],
      "text/plain": [
       "<class 'statsmodels.iolib.summary.Summary'>\n",
       "\"\"\"\n",
       "                            OLS Regression Results                            \n",
       "==============================================================================\n",
       "Dep. Variable:              saleprice   R-squared:                       0.795\n",
       "Model:                            OLS   Adj. R-squared:                  0.793\n",
       "Method:                 Least Squares   F-statistic:                     422.7\n",
       "Date:                Sun, 18 Aug 2019   Prob (F-statistic):               0.00\n",
       "Time:                        17:30:57   Log-Likelihood:                -17030.\n",
       "No. Observations:                1430   AIC:                         3.409e+04\n",
       "Df Residuals:                    1416   BIC:                         3.416e+04\n",
       "Df Model:                          13                                         \n",
       "Covariance Type:            nonrobust                                         \n",
       "================================================================================\n",
       "                   coef    std err          t      P>|t|      [0.025      0.975]\n",
       "--------------------------------------------------------------------------------\n",
       "const        -8.911e+05    1.2e+05     -7.452      0.000   -1.13e+06   -6.57e+05\n",
       "yearbuilt       70.4342     48.309      1.458      0.145     -24.330     165.198\n",
       "yearremodadd   398.6370     60.812      6.555      0.000     279.345     517.929\n",
       "bsmtfinsf1      11.4324      2.481      4.609      0.000       6.566      16.299\n",
       "fireplaces    1.002e+04   1736.375      5.768      0.000    6609.568    1.34e+04\n",
       "garagecars    1.653e+04   1723.117      9.594      0.000    1.32e+04    1.99e+04\n",
       "wooddecksf      30.7289      8.200      3.747      0.000      14.643      46.815\n",
       "secondflrsf     14.3229      2.524      5.675      0.000       9.372      19.274\n",
       "FV            2.674e+04   1.32e+04      2.021      0.043     784.780    5.27e+04\n",
       "RH            2.121e+04   1.51e+04      1.403      0.161   -8450.376    5.09e+04\n",
       "RL            2.627e+04   1.23e+04      2.141      0.032    2199.538    5.03e+04\n",
       "RM            1.032e+04   1.23e+04      0.836      0.403   -1.39e+04    3.45e+04\n",
       "ttl_sq_ft      -16.0788      3.654     -4.400      0.000     -23.247      -8.910\n",
       "sqfXqual         6.7719      0.364     18.599      0.000       6.058       7.486\n",
       "==============================================================================\n",
       "Omnibus:                     1520.240   Durbin-Watson:                   2.046\n",
       "Prob(Omnibus):                  0.000   Jarque-Bera (JB):           606122.471\n",
       "Skew:                          -4.462   Prob(JB):                         0.00\n",
       "Kurtosis:                     103.464   Cond. No.                     2.37e+06\n",
       "==============================================================================\n",
       "\n",
       "Warnings:\n",
       "[1] Standard Errors assume that the covariance matrix of the errors is correctly specified.\n",
       "[2] The condition number is large, 2.37e+06. This might indicate that there are\n",
       "strong multicollinearity or other numerical problems.\n",
       "\"\"\""
      ]
     },
     "execution_count": 16,
     "metadata": {},
     "output_type": "execute_result"
    }
   ],
   "source": [
    "X_train = sm.add_constant(X_train)\n",
    "lrm = sm.OLS(Y_train, X_train).fit()\n",
    "lrm.summary()"
   ]
  },
  {
   "cell_type": "markdown",
   "metadata": {},
   "source": [
    "As discussed in the last checkpoint, the r-squared is decently high, and the AIC and BIC are low"
   ]
  },
  {
   "cell_type": "markdown",
   "metadata": {},
   "source": [
    "Predict the house prices in the test set, and evaluate the performance of your model using the metrics we mentioned in this checkpoint."
   ]
  },
  {
   "cell_type": "code",
   "execution_count": 17,
   "metadata": {},
   "outputs": [
    {
     "name": "stdout",
     "output_type": "stream",
     "text": [
      "MAE: 14406.753189022818\n",
      "MSE: 365858659.1114245\n",
      "RMSE: 19127.432109706322\n",
      "MAPE: 0.09309841449249294\n"
     ]
    }
   ],
   "source": [
    "X_test = sm.add_constant(X_test)\n",
    "Y_pred = lrm.predict(X_test)\n",
    "\n",
    "print('MAE: {}'.format(mean_absolute_error(Y_test, Y_pred)))\n",
    "print('MSE: {}'.format(mse(Y_test, Y_pred)))\n",
    "print('RMSE: {}'.format(rmse(Y_test, Y_pred)))\n",
    "print('MAPE: {}'.format(((Y_test - Y_pred) / Y_test).abs().mean()))"
   ]
  },
  {
   "cell_type": "markdown",
   "metadata": {},
   "source": [
    "Is the performance of your model satisfactory? Why?"
   ]
  },
  {
   "cell_type": "markdown",
   "metadata": {},
   "source": [
    "MAPE looks impressively low. I would say that makes the model satisfactory."
   ]
  },
  {
   "cell_type": "markdown",
   "metadata": {},
   "source": [
    "Try to improve your model in terms of predictive performance by adding or removing some variables."
   ]
  },
  {
   "cell_type": "code",
   "execution_count": 19,
   "metadata": {},
   "outputs": [],
   "source": [
    "Y = np.log1p(df2.saleprice)\n",
    "X = df2.drop(columns = ['saleprice'])\n",
    "X_train, X_test, Y_train, Y_test = train_test_split(X, Y, test_size = .02, random_state = 390)"
   ]
  },
  {
   "cell_type": "code",
   "execution_count": 20,
   "metadata": {},
   "outputs": [
    {
     "data": {
      "text/html": [
       "<table class=\"simpletable\">\n",
       "<caption>OLS Regression Results</caption>\n",
       "<tr>\n",
       "  <th>Dep. Variable:</th>        <td>saleprice</td>    <th>  R-squared:         </th> <td>   0.825</td>\n",
       "</tr>\n",
       "<tr>\n",
       "  <th>Model:</th>                   <td>OLS</td>       <th>  Adj. R-squared:    </th> <td>   0.824</td>\n",
       "</tr>\n",
       "<tr>\n",
       "  <th>Method:</th>             <td>Least Squares</td>  <th>  F-statistic:       </th> <td>   515.1</td>\n",
       "</tr>\n",
       "<tr>\n",
       "  <th>Date:</th>             <td>Sun, 18 Aug 2019</td> <th>  Prob (F-statistic):</th>  <td>  0.00</td> \n",
       "</tr>\n",
       "<tr>\n",
       "  <th>Time:</th>                 <td>17:32:32</td>     <th>  Log-Likelihood:    </th> <td>  535.89</td>\n",
       "</tr>\n",
       "<tr>\n",
       "  <th>No. Observations:</th>      <td>  1430</td>      <th>  AIC:               </th> <td>  -1044.</td>\n",
       "</tr>\n",
       "<tr>\n",
       "  <th>Df Residuals:</th>          <td>  1416</td>      <th>  BIC:               </th> <td>  -970.1</td>\n",
       "</tr>\n",
       "<tr>\n",
       "  <th>Df Model:</th>              <td>    13</td>      <th>                     </th>     <td> </td>   \n",
       "</tr>\n",
       "<tr>\n",
       "  <th>Covariance Type:</th>      <td>nonrobust</td>    <th>                     </th>     <td> </td>   \n",
       "</tr>\n",
       "</table>\n",
       "<table class=\"simpletable\">\n",
       "<tr>\n",
       "        <td></td>          <th>coef</th>     <th>std err</th>      <th>t</th>      <th>P>|t|</th>  <th>[0.025</th>    <th>0.975]</th>  \n",
       "</tr>\n",
       "<tr>\n",
       "  <th>const</th>        <td>    2.1523</td> <td>    0.553</td> <td>    3.891</td> <td> 0.000</td> <td>    1.067</td> <td>    3.237</td>\n",
       "</tr>\n",
       "<tr>\n",
       "  <th>yearbuilt</th>    <td>    0.0011</td> <td>    0.000</td> <td>    4.917</td> <td> 0.000</td> <td>    0.001</td> <td>    0.002</td>\n",
       "</tr>\n",
       "<tr>\n",
       "  <th>yearremodadd</th> <td>    0.0033</td> <td>    0.000</td> <td>   11.790</td> <td> 0.000</td> <td>    0.003</td> <td>    0.004</td>\n",
       "</tr>\n",
       "<tr>\n",
       "  <th>bsmtfinsf1</th>   <td> 4.205e-05</td> <td> 1.15e-05</td> <td>    3.664</td> <td> 0.000</td> <td> 1.95e-05</td> <td> 6.46e-05</td>\n",
       "</tr>\n",
       "<tr>\n",
       "  <th>fireplaces</th>   <td>    0.0758</td> <td>    0.008</td> <td>    9.437</td> <td> 0.000</td> <td>    0.060</td> <td>    0.092</td>\n",
       "</tr>\n",
       "<tr>\n",
       "  <th>garagecars</th>   <td>    0.1080</td> <td>    0.008</td> <td>   13.553</td> <td> 0.000</td> <td>    0.092</td> <td>    0.124</td>\n",
       "</tr>\n",
       "<tr>\n",
       "  <th>wooddecksf</th>   <td>    0.0001</td> <td> 3.79e-05</td> <td>    3.616</td> <td> 0.000</td> <td> 6.27e-05</td> <td>    0.000</td>\n",
       "</tr>\n",
       "<tr>\n",
       "  <th>secondflrsf</th>  <td>  8.13e-05</td> <td> 1.17e-05</td> <td>    6.964</td> <td> 0.000</td> <td> 5.84e-05</td> <td>    0.000</td>\n",
       "</tr>\n",
       "<tr>\n",
       "  <th>FV</th>           <td>    0.4880</td> <td>    0.061</td> <td>    7.973</td> <td> 0.000</td> <td>    0.368</td> <td>    0.608</td>\n",
       "</tr>\n",
       "<tr>\n",
       "  <th>RH</th>           <td>    0.4125</td> <td>    0.070</td> <td>    5.897</td> <td> 0.000</td> <td>    0.275</td> <td>    0.550</td>\n",
       "</tr>\n",
       "<tr>\n",
       "  <th>RL</th>           <td>    0.4523</td> <td>    0.057</td> <td>    7.968</td> <td> 0.000</td> <td>    0.341</td> <td>    0.564</td>\n",
       "</tr>\n",
       "<tr>\n",
       "  <th>RM</th>           <td>    0.3275</td> <td>    0.057</td> <td>    5.733</td> <td> 0.000</td> <td>    0.215</td> <td>    0.440</td>\n",
       "</tr>\n",
       "<tr>\n",
       "  <th>ttl_sq_ft</th>    <td> 5.638e-05</td> <td> 1.69e-05</td> <td>    3.335</td> <td> 0.001</td> <td> 2.32e-05</td> <td> 8.95e-05</td>\n",
       "</tr>\n",
       "<tr>\n",
       "  <th>sqfXqual</th>     <td> 1.518e-05</td> <td> 1.68e-06</td> <td>    9.016</td> <td> 0.000</td> <td> 1.19e-05</td> <td> 1.85e-05</td>\n",
       "</tr>\n",
       "</table>\n",
       "<table class=\"simpletable\">\n",
       "<tr>\n",
       "  <th>Omnibus:</th>       <td>1377.783</td> <th>  Durbin-Watson:     </th>  <td>   2.044</td> \n",
       "</tr>\n",
       "<tr>\n",
       "  <th>Prob(Omnibus):</th>  <td> 0.000</td>  <th>  Jarque-Bera (JB):  </th> <td>195705.001</td>\n",
       "</tr>\n",
       "<tr>\n",
       "  <th>Skew:</th>           <td>-4.065</td>  <th>  Prob(JB):          </th>  <td>    0.00</td> \n",
       "</tr>\n",
       "<tr>\n",
       "  <th>Kurtosis:</th>       <td>59.732</td>  <th>  Cond. No.          </th>  <td>2.37e+06</td> \n",
       "</tr>\n",
       "</table><br/><br/>Warnings:<br/>[1] Standard Errors assume that the covariance matrix of the errors is correctly specified.<br/>[2] The condition number is large, 2.37e+06. This might indicate that there are<br/>strong multicollinearity or other numerical problems."
      ],
      "text/plain": [
       "<class 'statsmodels.iolib.summary.Summary'>\n",
       "\"\"\"\n",
       "                            OLS Regression Results                            \n",
       "==============================================================================\n",
       "Dep. Variable:              saleprice   R-squared:                       0.825\n",
       "Model:                            OLS   Adj. R-squared:                  0.824\n",
       "Method:                 Least Squares   F-statistic:                     515.1\n",
       "Date:                Sun, 18 Aug 2019   Prob (F-statistic):               0.00\n",
       "Time:                        17:32:32   Log-Likelihood:                 535.89\n",
       "No. Observations:                1430   AIC:                            -1044.\n",
       "Df Residuals:                    1416   BIC:                            -970.1\n",
       "Df Model:                          13                                         \n",
       "Covariance Type:            nonrobust                                         \n",
       "================================================================================\n",
       "                   coef    std err          t      P>|t|      [0.025      0.975]\n",
       "--------------------------------------------------------------------------------\n",
       "const            2.1523      0.553      3.891      0.000       1.067       3.237\n",
       "yearbuilt        0.0011      0.000      4.917      0.000       0.001       0.002\n",
       "yearremodadd     0.0033      0.000     11.790      0.000       0.003       0.004\n",
       "bsmtfinsf1    4.205e-05   1.15e-05      3.664      0.000    1.95e-05    6.46e-05\n",
       "fireplaces       0.0758      0.008      9.437      0.000       0.060       0.092\n",
       "garagecars       0.1080      0.008     13.553      0.000       0.092       0.124\n",
       "wooddecksf       0.0001   3.79e-05      3.616      0.000    6.27e-05       0.000\n",
       "secondflrsf    8.13e-05   1.17e-05      6.964      0.000    5.84e-05       0.000\n",
       "FV               0.4880      0.061      7.973      0.000       0.368       0.608\n",
       "RH               0.4125      0.070      5.897      0.000       0.275       0.550\n",
       "RL               0.4523      0.057      7.968      0.000       0.341       0.564\n",
       "RM               0.3275      0.057      5.733      0.000       0.215       0.440\n",
       "ttl_sq_ft     5.638e-05   1.69e-05      3.335      0.001    2.32e-05    8.95e-05\n",
       "sqfXqual      1.518e-05   1.68e-06      9.016      0.000    1.19e-05    1.85e-05\n",
       "==============================================================================\n",
       "Omnibus:                     1377.783   Durbin-Watson:                   2.044\n",
       "Prob(Omnibus):                  0.000   Jarque-Bera (JB):           195705.001\n",
       "Skew:                          -4.065   Prob(JB):                         0.00\n",
       "Kurtosis:                      59.732   Cond. No.                     2.37e+06\n",
       "==============================================================================\n",
       "\n",
       "Warnings:\n",
       "[1] Standard Errors assume that the covariance matrix of the errors is correctly specified.\n",
       "[2] The condition number is large, 2.37e+06. This might indicate that there are\n",
       "strong multicollinearity or other numerical problems.\n",
       "\"\"\""
      ]
     },
     "execution_count": 20,
     "metadata": {},
     "output_type": "execute_result"
    }
   ],
   "source": [
    "X_train = sm.add_constant(X_train)\n",
    "lrm = sm.OLS(Y_train, X_train).fit()\n",
    "lrm.summary()"
   ]
  },
  {
   "cell_type": "code",
   "execution_count": 21,
   "metadata": {},
   "outputs": [
    {
     "name": "stdout",
     "output_type": "stream",
     "text": [
      "MAE: 0.09267718641441244\n",
      "MSE: 0.018675924992714418\n",
      "RMSE: 0.13665988801661744\n",
      "MAPE: 0.007897929205483064\n"
     ]
    }
   ],
   "source": [
    "X_test = sm.add_constant(X_test)\n",
    "Y_pred = lrm.predict(X_test)\n",
    "\n",
    "print('MAE: {}'.format(mean_absolute_error(Y_test, Y_pred)))\n",
    "print('MSE: {}'.format(mse(Y_test, Y_pred)))\n",
    "print('RMSE: {}'.format(rmse(Y_test, Y_pred)))\n",
    "print('MAPE: {}'.format(((Y_test - Y_pred) / Y_test).abs().mean()))"
   ]
  }
 ],
 "metadata": {
  "kernelspec": {
   "display_name": "Python 3",
   "language": "python",
   "name": "python3"
  },
  "language_info": {
   "codemirror_mode": {
    "name": "ipython",
    "version": 3
   },
   "file_extension": ".py",
   "mimetype": "text/x-python",
   "name": "python",
   "nbconvert_exporter": "python",
   "pygments_lexer": "ipython3",
   "version": "3.7.4"
  }
 },
 "nbformat": 4,
 "nbformat_minor": 2
}
