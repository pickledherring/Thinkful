{
 "cells": [
  {
   "cell_type": "code",
   "execution_count": 1,
   "metadata": {},
   "outputs": [],
   "source": [
    "import numpy as np\n",
    "import pandas as pd\n",
    "import matplotlib.pyplot as plt\n",
    "import scipy\n",
    "%matplotlib inline"
   ]
  },
  {
   "cell_type": "code",
   "execution_count": 2,
   "metadata": {},
   "outputs": [],
   "source": [
    "music = pd.DataFrame()\n",
    "\n",
    "# Some data to play with.\n",
    "music['duration'] = [184, 134, 243, 186, 122, 197, 294, 382, 102, 264, \n",
    "                     205, 110, 307, 110, 397, 153, 190, 192, 210, 403,\n",
    "                     164, 198, 204, 253, 234, 190, 182, 401, 376, 102]\n",
    "music['loudness'] = [18, 34, 43, 36, 22, 9, 29, 22, 10, 24, \n",
    "                     20, 10, 17, 51, 7, 13, 19, 12, 21, 22,\n",
    "                     16, 18, 4, 23, 34, 19, 14, 11, 37, 42]\n",
    "\n",
    "# We know whether the songs in our training data are jazz or not.\n",
    "music['jazz'] = [ 1, 0, 0, 0, 1, 1, 0, 1, 1, 0,\n",
    "                  0, 1, 1, 0, 1, 1, 0, 1, 1, 1,\n",
    "                  1, 1, 1, 1, 0, 0, 1, 1, 0, 0]"
   ]
  },
  {
   "cell_type": "code",
   "execution_count": 105,
   "metadata": {},
   "outputs": [],
   "source": [
    "from collections import Counter \n",
    "def neighbors(X, Y, neighbors):\n",
    "    df = music.copy()\n",
    "    df['distance'] = 0\n",
    "    for i in range(len(music['duration'])):\n",
    "        X_1 = (music.at[i, 'duration'] - X) ** 2\n",
    "        X_2 = (music.at[i, 'loudness'] - Y) ** 2\n",
    "        df.at[i, 'distance'] = np.sqrt(X_1 + X_2)\n",
    "\n",
    "    c=Counter(df.sort_values('distance')[:neighbors].jazz)\n",
    "    predict=c.most_common()[0][0]\n",
    "    return df, predict"
   ]
  },
  {
   "cell_type": "code",
   "execution_count": 106,
   "metadata": {},
   "outputs": [],
   "source": [
    "df, predict = neighbors(150, 10, 5)"
   ]
  },
  {
   "cell_type": "code",
   "execution_count": 107,
   "metadata": {},
   "outputs": [
    {
     "data": {
      "text/plain": [
       "(    duration  loudness  jazz  distance\n",
       " 0        184        18     1        34\n",
       " 1        134        34     0        28\n",
       " 2        243        43     0        98\n",
       " 3        186        36     0        44\n",
       " 4        122        22     1        30\n",
       " 5        197         9     1        47\n",
       " 6        294        29     0       145\n",
       " 7        382        22     1       232\n",
       " 8        102        10     1        48\n",
       " 9        264        24     0       114\n",
       " 10       205        20     0        55\n",
       " 11       110        10     1        40\n",
       " 12       307        17     1       157\n",
       " 13       110        51     0        57\n",
       " 14       397         7     1       247\n",
       " 15       153        13     1         4\n",
       " 16       190        19     0        41\n",
       " 17       192        12     1        42\n",
       " 18       210        21     1        61\n",
       " 19       403        22     1       253\n",
       " 20       164        16     1        15\n",
       " 21       198        18     1        48\n",
       " 22       204         4     1        54\n",
       " 23       253        23     1       103\n",
       " 24       234        34     0        87\n",
       " 25       190        19     0        41\n",
       " 26       182        14     1        32\n",
       " 27       401        11     1       251\n",
       " 28       376        37     0       227\n",
       " 29       102        42     0        57, 1)"
      ]
     },
     "execution_count": 107,
     "metadata": {},
     "output_type": "execute_result"
    }
   ],
   "source": [
    "df, predict"
   ]
  },
  {
   "cell_type": "code",
   "execution_count": null,
   "metadata": {},
   "outputs": [],
   "source": []
  }
 ],
 "metadata": {
  "kernelspec": {
   "display_name": "Python 3",
   "language": "python",
   "name": "python3"
  },
  "language_info": {
   "codemirror_mode": {
    "name": "ipython",
    "version": 3
   },
   "file_extension": ".py",
   "mimetype": "text/x-python",
   "name": "python",
   "nbconvert_exporter": "python",
   "pygments_lexer": "ipython3",
   "version": "3.7.4"
  }
 },
 "nbformat": 4,
 "nbformat_minor": 2
}
