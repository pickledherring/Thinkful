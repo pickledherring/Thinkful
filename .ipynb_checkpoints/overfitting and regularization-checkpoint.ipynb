{
 "cells": [
  {
   "cell_type": "code",
   "execution_count": 31,
   "metadata": {},
   "outputs": [],
   "source": [
    "import pandas as pd\n",
    "import numpy as np\n",
    "import matplotlib.pyplot as plt\n",
    "from sklearn.linear_model import LinearRegression\n",
    "from sklearn.model_selection import train_test_split\n",
    "from sklearn.metrics import mean_absolute_error\n",
    "from statsmodels.tools.eval_measures import mse, rmse\n",
    "from sklearn.linear_model import ElasticNet\n",
    "from sklearn.linear_model import Lasso\n",
    "from sklearn.linear_model import Ridge\n",
    "from sqlalchemy import create_engine\n",
    "import warnings\n",
    "warnings.filterwarnings('ignore')\n",
    "\n",
    "from sklearn.linear_model import RidgeCV\n",
    "from sklearn.linear_model import LassoCV\n",
    "from sklearn.linear_model import ElasticNetCV\n",
    "from sklearn.model_selection import cross_val_score\n",
    "from sklearn.model_selection import KFold"
   ]
  },
  {
   "cell_type": "markdown",
   "metadata": {},
   "source": [
    "Load the houseprices data from Thinkful's database. Reimplement your model from the previous checkpoint."
   ]
  },
  {
   "cell_type": "code",
   "execution_count": 27,
   "metadata": {},
   "outputs": [],
   "source": [
    "postgres_user = 'dsbc_student'\n",
    "postgres_pw = '7*.8G9QH21'\n",
    "postgres_host = '142.93.121.174'\n",
    "postgres_port = '5432'\n",
    "postgres_db = 'houseprices'\n",
    "\n",
    "engine = create_engine('postgresql://{}:{}@{}:{}/{}'.format(\n",
    "    postgres_user, postgres_pw, postgres_host, postgres_port, postgres_db))\n",
    "df = pd.read_sql_query('select * from houseprices',con=engine)\n",
    "engine.dispose()"
   ]
  },
  {
   "cell_type": "code",
   "execution_count": 28,
   "metadata": {},
   "outputs": [],
   "source": [
    "## Fill continuous variable null values with zero\n",
    "for column in ['masvnrarea', 'lotfrontage', 'garagecars']:\n",
    "    df[column] = df[column].fillna(0)\n",
    "    \n",
    "indexes = df[df.garageyrblt == 'None'].index\n",
    "df.loc[indexes, ['garageyrblt']] = 1980\n",
    "df['garageyrblt'] = pd.to_numeric(df['garageyrblt'])\n",
    "\n",
    "## Fill all null values with 'none'\n",
    "df = df.fillna('None')"
   ]
  },
  {
   "cell_type": "code",
   "execution_count": 29,
   "metadata": {},
   "outputs": [],
   "source": [
    "df['ttl_sq_ft'] = df.totalbsmtsf + df.firstflrsf + df.secondflrsf\n",
    "df['sqfXqual'] = df.ttl_sq_ft * df.overallqual\n",
    "df = pd.concat([df, pd.get_dummies(df.mszoning, drop_first=True)], axis=1)\n",
    "\n",
    "df2 = df[['yearbuilt', 'yearremodadd', 'bsmtfinsf1', 'fireplaces', 'garagecars',\n",
    "          'wooddecksf', 'secondflrsf', 'FV', 'RH', 'RL', 'RM',\n",
    "          'saleprice', 'ttl_sq_ft', 'sqfXqual']]\n",
    "\n",
    "Y = np.log1p(df2.saleprice)\n",
    "X = df2.drop(columns = ['saleprice'])\n",
    "X_train, X_test, Y_train, Y_test = train_test_split(X, Y, test_size = .02, random_state = 390)"
   ]
  },
  {
   "cell_type": "markdown",
   "metadata": {},
   "source": [
    "Try OLS, Lasso, Ridge, and ElasticNet regression using the same model specification. This time, you need to do k-fold cross-validation to choose the best hyperparameter values for your models."
   ]
  },
  {
   "cell_type": "code",
   "execution_count": 32,
   "metadata": {},
   "outputs": [
    {
     "name": "stdout",
     "output_type": "stream",
     "text": [
      "R-squared train: 0.8254385059049244 \n",
      "R-squared test: 0.9082138652014795\n",
      "MAE: 0.09267718641438687\n",
      "MSE: 0.018675924992709845\n",
      "RMSE: 0.1366598880166007\n",
      "MAPE: 0.007897929205480998\n"
     ]
    },
    {
     "data": {
      "text/plain": [
       "array([0.69054489, 0.84496639, 0.82863481, 0.84793952, 0.86994585,\n",
       "       0.88487373, 0.8812502 , 0.87723982, 0.88272707, 0.41654209])"
      ]
     },
     "execution_count": 32,
     "metadata": {},
     "output_type": "execute_result"
    }
   ],
   "source": [
    "lrm = LinearRegression()\n",
    "lrm.fit(X_train, Y_train)\n",
    "\n",
    "Y_pred_train = lrm.predict(X_train)\n",
    "Y_pred_test = lrm.predict(X_test)\n",
    "\n",
    "print('R-squared train: {} \\nR-squared test: {}'.format(\n",
    "    lrm.score(X_train, Y_train), lrm.score(X_test, Y_test)))\n",
    "print('MAE: {}'.format(mean_absolute_error(Y_test, Y_pred_test)))\n",
    "print('MSE: {}'.format(mse(Y_test, Y_pred_test)))\n",
    "print('RMSE: {}'.format(rmse(Y_test, Y_pred_test)))\n",
    "print('MAPE: {}'.format(((Y_test - Y_pred_test) / Y_test).abs().mean()))\n",
    "kfold = KFold(n_splits=10, random_state=None, shuffle=True)\n",
    "cross_val_score(lrm, X, Y, cv=kfold)"
   ]
  },
  {
   "cell_type": "code",
   "execution_count": 33,
   "metadata": {},
   "outputs": [
    {
     "name": "stdout",
     "output_type": "stream",
     "text": [
      "R-squared train: 0.8254249416427648 \n",
      "R-squared test: 0.9051487992748176\n",
      "MAE: 0.09325776452177632\n",
      "MSE: 0.019299580640370604\n",
      "RMSE: 0.13892293057796687\n",
      "MAPE: 0.007952986801642265\n"
     ]
    },
    {
     "data": {
      "text/plain": [
       "array([0.83358314, 0.86717454, 0.86185936, 0.85526778, 0.8672741 ,\n",
       "       0.77778482, 0.4510395 , 0.85436503, 0.86327565, 0.90156865])"
      ]
     },
     "execution_count": 33,
     "metadata": {},
     "output_type": "execute_result"
    }
   ],
   "source": [
    "ridge = RidgeCV()\n",
    "ridge.fit(X_train, Y_train)\n",
    "\n",
    "Y_pred_train = ridge.predict(X_train)\n",
    "Y_pred_test = ridge.predict(X_test)\n",
    "\n",
    "print('R-squared train: {} \\nR-squared test: {}'.format(\n",
    "    ridge.score(X_train, Y_train), ridge.score(X_test, Y_test)))\n",
    "print('MAE: {}'.format(mean_absolute_error(Y_test, Y_pred_test)))\n",
    "print('MSE: {}'.format(mse(Y_test, Y_pred_test)))\n",
    "print('RMSE: {}'.format(rmse(Y_test, Y_pred_test)))\n",
    "print('MAPE: {}'.format(((Y_test - Y_pred_test) / Y_test).abs().mean()))\n",
    "kfold = KFold(n_splits=10, random_state=None, shuffle=True)\n",
    "cross_val_score(ridge, X, Y, cv=kfold)"
   ]
  },
  {
   "cell_type": "code",
   "execution_count": 19,
   "metadata": {},
   "outputs": [
    {
     "name": "stdout",
     "output_type": "stream",
     "text": [
      "R-squared train: 0.0 \n",
      "R-squared test: -0.002230960694857176\n",
      "MAE: 0.33582277665744464\n",
      "MSE: 0.20392611899820828\n",
      "RMSE: 0.45158179657533615\n",
      "MAPE: 0.028320178258867325\n"
     ]
    },
    {
     "data": {
      "text/plain": [
       "array([-6.09811744e-03, -1.70782383e-02, -1.31032033e-04, -8.25179844e-05,\n",
       "       -3.95332762e-05, -5.51308997e-03, -9.99038707e-03, -1.17068558e-02,\n",
       "       -1.76135105e-02, -5.85467508e-03])"
      ]
     },
     "execution_count": 19,
     "metadata": {},
     "output_type": "execute_result"
    }
   ],
   "source": [
    "ridge = Ridge(alpha=10**37)\n",
    "ridge.fit(X_train, Y_train)\n",
    "\n",
    "Y_pred_train = ridge.predict(X_train)\n",
    "Y_pred_test = ridge.predict(X_test)\n",
    "\n",
    "print('R-squared train: {} \\nR-squared test: {}'.format(\n",
    "    ridge.score(X_train, Y_train), ridge.score(X_test, Y_test)))\n",
    "print('MAE: {}'.format(mean_absolute_error(Y_test, Y_pred_test)))\n",
    "print('MSE: {}'.format(mse(Y_test, Y_pred_test)))\n",
    "print('RMSE: {}'.format(rmse(Y_test, Y_pred_test)))\n",
    "print('MAPE: {}'.format(((Y_test - Y_pred_test) / Y_test).abs().mean()))\n",
    "kfold = KFold(n_splits=10, random_state=None, shuffle=True)\n",
    "cross_val_score(ridge, X, Y, cv=kfold)"
   ]
  },
  {
   "cell_type": "code",
   "execution_count": 35,
   "metadata": {},
   "outputs": [
    {
     "name": "stdout",
     "output_type": "stream",
     "text": [
      "R-squared train: 0.8168708067656612 \n",
      "R-squared test: 0.8207287896637013\n",
      "MAE: 0.10324346398343008\n",
      "MSE: 0.0364767040789149\n",
      "RMSE: 0.19098875380219354\n",
      "MAPE: 0.008912966083369611\n"
     ]
    },
    {
     "data": {
      "text/plain": [
       "array([0.78711265, 0.41958728, 0.84156201, 0.86687997, 0.69623519,\n",
       "       0.89620986, 0.83992893, 0.88541582, 0.85028592, 0.87096234])"
      ]
     },
     "execution_count": 35,
     "metadata": {},
     "output_type": "execute_result"
    }
   ],
   "source": [
    "ridge = Ridge(alpha=100)\n",
    "ridge.fit(X_train, Y_train)\n",
    "\n",
    "Y_pred_train = ridge.predict(X_train)\n",
    "Y_pred_test = ridge.predict(X_test)\n",
    "\n",
    "print('R-squared train: {} \\nR-squared test: {}'.format(\n",
    "    ridge.score(X_train, Y_train), ridge.score(X_test, Y_test)))\n",
    "print('MAE: {}'.format(mean_absolute_error(Y_test, Y_pred_test)))\n",
    "print('MSE: {}'.format(mse(Y_test, Y_pred_test)))\n",
    "print('RMSE: {}'.format(rmse(Y_test, Y_pred_test)))\n",
    "print('MAPE: {}'.format(((Y_test - Y_pred_test) / Y_test).abs().mean()))\n",
    "kfold = KFold(n_splits=10, random_state=None, shuffle=True)\n",
    "cross_val_score(ridge, X, Y, cv=kfold)"
   ]
  },
  {
   "cell_type": "code",
   "execution_count": 21,
   "metadata": {},
   "outputs": [
    {
     "name": "stdout",
     "output_type": "stream",
     "text": [
      "R-squared train: 0.6784632764489293 \n",
      "R-squared test: 0.6875700266928421\n",
      "MAE: 0.1604438120928058\n",
      "MSE: 0.06357080794138499\n",
      "RMSE: 0.25213252059459723\n",
      "MAPE: 0.013746616278129955\n"
     ]
    },
    {
     "data": {
      "text/plain": [
       "array([ 0.73989203,  0.7835821 ,  0.77702338,  0.57596442,  0.77187035,\n",
       "        0.77099236,  0.75946966,  0.7534005 , -0.22804763,  0.75599613])"
      ]
     },
     "execution_count": 21,
     "metadata": {},
     "output_type": "execute_result"
    }
   ],
   "source": [
    "lasso = LassoCV()\n",
    "lasso.fit(X_train, Y_train)\n",
    "\n",
    "Y_pred_train = lasso.predict(X_train)\n",
    "Y_pred_test = lasso.predict(X_test)\n",
    "\n",
    "print('R-squared train: {} \\nR-squared test: {}'.format(\n",
    "    lasso.score(X_train, Y_train), lasso.score(X_test, Y_test)))\n",
    "print('MAE: {}'.format(mean_absolute_error(Y_test, Y_pred_test)))\n",
    "print('MSE: {}'.format(mse(Y_test, Y_pred_test)))\n",
    "print('RMSE: {}'.format(rmse(Y_test, Y_pred_test)))\n",
    "print('MAPE: {}'.format(((Y_test - Y_pred_test) / Y_test).abs().mean()))\n",
    "kfold = KFold(n_splits=10, random_state=None, shuffle=True)\n",
    "cross_val_score(lasso, X, Y, cv=kfold)"
   ]
  },
  {
   "cell_type": "code",
   "execution_count": 22,
   "metadata": {},
   "outputs": [
    {
     "name": "stdout",
     "output_type": "stream",
     "text": [
      "R-squared train: 0.6797034238536916 \n",
      "R-squared test: 0.6966241311027542\n",
      "MAE: 0.1566388272515221\n",
      "MSE: 0.06172854957407428\n",
      "RMSE: 0.24845230844987995\n",
      "MAPE: 0.013431609802339041\n"
     ]
    },
    {
     "data": {
      "text/plain": [
       "array([ 0.74441083,  0.77334897,  0.76212048,  0.56322558,  0.7642841 ,\n",
       "        0.77558904,  0.74943617,  0.74657636, -0.11237169,  0.74022257])"
      ]
     },
     "execution_count": 22,
     "metadata": {},
     "output_type": "execute_result"
    }
   ],
   "source": [
    "lasso = Lasso(alpha=20)\n",
    "lasso.fit(X_train, Y_train)\n",
    "\n",
    "Y_pred_train = lasso.predict(X_train)\n",
    "Y_pred_test = lasso.predict(X_test)\n",
    "\n",
    "print('R-squared train: {} \\nR-squared test: {}'.format(\n",
    "    lasso.score(X_train, Y_train), lasso.score(X_test, Y_test)))\n",
    "print('MAE: {}'.format(mean_absolute_error(Y_test, Y_pred_test)))\n",
    "print('MSE: {}'.format(mse(Y_test, Y_pred_test)))\n",
    "print('RMSE: {}'.format(rmse(Y_test, Y_pred_test)))\n",
    "print('MAPE: {}'.format(((Y_test - Y_pred_test) / Y_test).abs().mean()))\n",
    "kfold = KFold(n_splits=10, random_state=None, shuffle=True)\n",
    "cross_val_score(lasso, X, Y, cv=kfold)"
   ]
  },
  {
   "cell_type": "code",
   "execution_count": 23,
   "metadata": {},
   "outputs": [
    {
     "name": "stdout",
     "output_type": "stream",
     "text": [
      "R-squared train: 0.6784631841945427 \n",
      " R-squared test: 0.6875696082891455\n",
      "MAE: 0.1604439765872346\n",
      "MSE: 0.06357089307489748\n",
      "RMSE: 0.25213268942145817\n",
      "MAPE: 0.013746629896268387\n"
     ]
    },
    {
     "data": {
      "text/plain": [
       "array([ 0.7398918 ,  0.78358196,  0.77702306,  0.57596488,  0.77186954,\n",
       "        0.77099213,  0.75946983,  0.75340119, -0.22804695,  0.75599516])"
      ]
     },
     "execution_count": 23,
     "metadata": {},
     "output_type": "execute_result"
    }
   ],
   "source": [
    "elastic = ElasticNetCV()\n",
    "elastic.fit(X_train, Y_train)\n",
    "\n",
    "Y_pred_train = elastic.predict(X_train)\n",
    "Y_pred_test = elastic.predict(X_test)\n",
    "\n",
    "print('R-squared train: {} \\n R-squared test: {}'.format(\n",
    "    elastic.score(X_train, Y_train), elastic.score(X_test, Y_test)))\n",
    "print('MAE: {}'.format(mean_absolute_error(Y_test, Y_pred_test)))\n",
    "print('MSE: {}'.format(mse(Y_test, Y_pred_test)))\n",
    "print('RMSE: {}'.format(rmse(Y_test, Y_pred_test)))\n",
    "print('MAPE: {}'.format(((Y_test - Y_pred_test) / Y_test).abs().mean()))\n",
    "kfold = KFold(n_splits=10, random_state=None, shuffle=True)\n",
    "cross_val_score(elastic, X, Y, cv=kfold)"
   ]
  },
  {
   "cell_type": "code",
   "execution_count": 36,
   "metadata": {},
   "outputs": [
    {
     "name": "stdout",
     "output_type": "stream",
     "text": [
      "R-squared train: 0.0 \n",
      " R-squared test: -0.002230960694857176\n",
      "MAE: 0.33582277665744464\n",
      "MSE: 0.20392611899820828\n",
      "RMSE: 0.45158179657533615\n",
      "MAPE: 0.028320178258867325\n"
     ]
    },
    {
     "data": {
      "text/plain": [
       "array([-0.0078519 , -0.00543366, -0.00068278, -0.00281817, -0.00060011,\n",
       "       -0.02762842, -0.00895402, -0.0108221 , -0.01986626, -0.00277468])"
      ]
     },
     "execution_count": 36,
     "metadata": {},
     "output_type": "execute_result"
    }
   ],
   "source": [
    "elastic = ElasticNet(alpha=10**10, l1_ratio=0.8)\n",
    "elastic.fit(X_train, Y_train)\n",
    "\n",
    "Y_pred_train = elastic.predict(X_train)\n",
    "Y_pred_test = elastic.predict(X_test)\n",
    "\n",
    "print('R-squared train: {} \\n R-squared test: {}'.format(\n",
    "    elastic.score(X_train, Y_train), elastic.score(X_test, Y_test)))\n",
    "print('MAE: {}'.format(mean_absolute_error(Y_test, Y_pred_test)))\n",
    "print('MSE: {}'.format(mse(Y_test, Y_pred_test)))\n",
    "print('RMSE: {}'.format(rmse(Y_test, Y_pred_test)))\n",
    "print('MAPE: {}'.format(((Y_test - Y_pred_test) / Y_test).abs().mean()))\n",
    "kfold = KFold(n_splits=10, random_state=None, shuffle=True)\n",
    "cross_val_score(elastic, X, Y, cv=kfold)"
   ]
  },
  {
   "cell_type": "markdown",
   "metadata": {},
   "source": [
    "Which model is the best? Why?"
   ]
  },
  {
   "cell_type": "markdown",
   "metadata": {},
   "source": [
    "Oddly, the first."
   ]
  }
 ],
 "metadata": {
  "kernelspec": {
   "display_name": "Python 3",
   "language": "python",
   "name": "python3"
  },
  "language_info": {
   "codemirror_mode": {
    "name": "ipython",
    "version": 3
   },
   "file_extension": ".py",
   "mimetype": "text/x-python",
   "name": "python",
   "nbconvert_exporter": "python",
   "pygments_lexer": "ipython3",
   "version": "3.7.4"
  }
 },
 "nbformat": 4,
 "nbformat_minor": 2
}
