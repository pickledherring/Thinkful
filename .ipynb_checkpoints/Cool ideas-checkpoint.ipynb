{
 "cells": [
  {
   "cell_type": "code",
   "execution_count": 1,
   "metadata": {},
   "outputs": [],
   "source": [
    "import pandas as pd\n",
    "import numpy as np\n",
    "import statistics"
   ]
  },
  {
   "cell_type": "markdown",
   "metadata": {},
   "source": [
    "correlations ordered for a single target"
   ]
  },
  {
   "cell_type": "code",
   "execution_count": null,
   "metadata": {},
   "outputs": [],
   "source": [
    "np.abs(house_prices_df[numeric_columns].iloc[:,1:].corr().loc[:,\"saleprice\"]).sort_values(ascending=False)"
   ]
  },
  {
   "cell_type": "markdown",
   "metadata": {},
   "source": [
    "postgres connection"
   ]
  },
  {
   "cell_type": "code",
   "execution_count": null,
   "metadata": {},
   "outputs": [],
   "source": [
    "from sqlalchemy import create_engine\n",
    "postgres_user = 'postgres'\n",
    "postgres_pw = ''\n",
    "postgres_host = 'localhost'\n",
    "postgres_port = '5432'\n",
    "postgres_db = 'BikeShare'\n",
    "\n",
    "engine = create_engine('postgresql://{}:{}@{}:{}/{}'.format(\n",
    "    postgres_user, postgres_pw, postgres_host, postgres_port, postgres_db))\n",
    "\n",
    "youtube_df = pd.read_sql_query('select * from youtube',con=engine)\n",
    "\n",
    "# no need for an open connection, \n",
    "# as we're only doing a single query\n",
    "engine.dispose()"
   ]
  },
  {
   "cell_type": "code",
   "execution_count": 2,
   "metadata": {},
   "outputs": [
    {
     "name": "stdout",
     "output_type": "stream",
     "text": [
      "<class 'pandas.core.frame.DataFrame'>\n",
      "RangeIndex: 5000 entries, 0 to 4999\n",
      "Data columns (total 6 columns):\n",
      "Rank             5000 non-null object\n",
      "Grade            5000 non-null object\n",
      "Channel name     5000 non-null object\n",
      "Video Uploads    5000 non-null object\n",
      "Subscribers      5000 non-null object\n",
      "Video views      5000 non-null int64\n",
      "dtypes: int64(1), object(5)\n",
      "memory usage: 234.5+ KB\n"
     ]
    }
   ],
   "source": [
    "from sqlalchemy import create_engine\n",
    "postgres_user = 'dsbc_student'\n",
    "postgres_pw = '7*.8G9QH21'\n",
    "postgres_host = '142.93.121.174'\n",
    "postgres_port = '5432'\n",
    "postgres_db = 'youtube'\n",
    "\n",
    "engine = create_engine('postgresql://{}:{}@{}:{}/{}'.format(\n",
    "    postgres_user, postgres_pw, postgres_host, postgres_port, postgres_db))\n",
    "\n",
    "df = pd.read_sql_query('select * from youtube',con=engine)\n",
    "\n",
    "# no need for an open connection, \n",
    "# as we're only doing a single query\n",
    "engine.dispose()\n",
    "\n",
    "df.info()"
   ]
  },
  {
   "cell_type": "markdown",
   "metadata": {},
   "source": [
    "flip a dataframe by iterating through it"
   ]
  },
  {
   "cell_type": "code",
   "execution_count": 3,
   "metadata": {},
   "outputs": [],
   "source": [
    "city_list = list(zillow.index.values)\n",
    "value_lists = []\n",
    "zillow_flip = pd.DataFrame()\n",
    "\n",
    "for i in range(zillow.shape[0]):\n",
    "    value_lists.append(list(zillow.iloc[i, :]))\n",
    "\n",
    "city_list2 = []\n",
    "for i in range(len(city_list)):\n",
    "    if city_list[i] in city_list2:\n",
    "        city_list2.append(city_list[i] + ', ' + zillow.iloc[i, 4])\n",
    "    else:\n",
    "        city_list2.append(city_list[i])\n",
    "    \n",
    "for i in range(len(city_list2)):\n",
    "    zillow_flip[city_list2[i]] = value_lists[i]\n",
    "    \n",
    "zillow_flip"
   ]
  },
  {
   "cell_type": "markdown",
   "metadata": {},
   "source": [
    "regression equation"
   ]
  },
  {
   "cell_type": "code",
   "execution_count": null,
   "metadata": {},
   "outputs": [],
   "source": [
    "slope, intercept, r_value, p_value, std_err = stats.linregress(rated['pages'],\n",
    "                                                               rated['average_rating'])\n",
    "plt.plot(line_kws={'label':\"y={0:.1f}x+{1:.1f}\".format(slope,intercept)})\n",
    "plt.legend()"
   ]
  },
  {
   "cell_type": "markdown",
   "metadata": {},
   "source": [
    "renaming an index and changing the value"
   ]
  },
  {
   "cell_type": "code",
   "execution_count": 8,
   "metadata": {},
   "outputs": [],
   "source": [
    "b_b.rename(index = {'Oliver': 'Jessica'}, inplace = True)\n",
    "b_b.loc['Jessica'] = 1\n",
    "b_b"
   ]
  },
  {
   "cell_type": "markdown",
   "metadata": {},
   "source": [
    "something called plotly and another called seaborn which have awesome visualizations."
   ]
  },
  {
   "cell_type": "code",
   "execution_count": null,
   "metadata": {},
   "outputs": [],
   "source": [
    "import seaborn as sns \n",
    "import os \n",
    "# my style:\n",
    "sns.set(style= \"whitegrid\")\n",
    "\n",
    "# My favourite Library for visualisation \n",
    "from plotly import __version__\n",
    "import cufflinks as cf\n",
    "\n",
    "from plotly.offline import download_plotlyjs, init_notebook_mode, plot, iplot\n",
    "init_notebook_mode(connected=True)\n",
    "\n",
    "cf.go_offline()\n",
    "\n",
    "import plotly.figure_factory as ff\n",
    "import plotly.offline as py\n",
    "##for online plotting use import plotly.plotly as py\n",
    "import plotly.graph_objs as go\n",
    "py.init_notebook_mode(connected=True)\n",
    "from plotly import tools\n",
    "\n",
    "##plotting below\n",
    "\n",
    "state_count = df[\"State\"].value_counts()\n",
    "\n",
    "trace = go.Bar(\n",
    "    x=state_count.index,\n",
    "    y=state_count.values,\n",
    "    marker=dict(\n",
    "        color = ([\"lightsteelblue\", \"lightyellow\", \"lime\", \"limegreen\",\n",
    "            \"linen\", \"magenta\", \"maroon\", \"mediumaquamarine\",\n",
    "            \"mediumblue\", \"mediumorchid\", \"mediumpurple\",\"mediumblue\", \"mediumorchid\", \"mediumpurple\", \"hotpink\", \"indianred\", \"indigo\",\n",
    "            \"ivory\", \"khaki\", \"lavender\",\"lightyellow\", \"lime\", \"limegreen\",\n",
    "            \"linen\", \"magenta\", \"maroon\", \"mediumaquamarine\",\n",
    "            \"mediumblue\", \"mediumorchid\", \"mediumpurple\", \"hotpink\", \"indianred\", \"indigo\",\n",
    "            \"ivory\", \"khaki\", \"lavender\"])))\n",
    "layout = go.Layout(\n",
    "    title='States with Highest listing', yaxis = dict(title = 'Frequency'))\n",
    "data = [trace]\n",
    "fig = go.Figure(data=data, layout=layout)\n",
    "py.iplot(fig)\n",
    "\n",
    "\n",
    "\n",
    "\n",
    "label = state_count.index\n",
    "size = state_count.values\n",
    "colors = [\"lightsteelblue\", \"lightyellow\", \"lime\", \"limegreen\",\n",
    "            \"linen\", \"magenta\", \"maroon\"]\n",
    "trace = go.Pie(labels=label, \n",
    "               values=size, \n",
    "               marker=dict(colors=colors))\n",
    "layout = go.Layout(\n",
    "    title='State Distribution')\n",
    "data = [trace]\n",
    "fig = go.Figure(data=data, layout=layout)\n",
    "py.iplot(fig)\n",
    "\n",
    "##displays data across all plots for a month\n",
    "\n",
    "trace0 = go.Scatter(x= months, \n",
    "                    y = np.nanmedian(df[df[\"State\"]==\"NY\"][months], axis = 0),\n",
    "                    mode='markers', marker=dict(size=3),\n",
    "                    name = \"NY\")\n",
    "\n",
    "trace1 =go.Scatter(x= months, \n",
    "                    y = np.nanmedian(df[df[\"State\"]==\"CA\"][months], axis = 0), mode='markers', marker=dict(size=3),\n",
    "                   name = \"CA\")\n",
    "trace2 = go.Scatter(x= months, \n",
    "                    y = np.nanmedian(df[df[\"State\"]==\"HI\"][months], axis = 0),\n",
    "                    mode='markers', marker=dict(size=3),\n",
    "                    name = \"HI\")\n",
    "\n",
    "trace3 = go.Scatter(x= months, \n",
    "                    y = np.nanmedian(df[df[\"State\"]==\"DC\"][months], axis = 0), \n",
    "                    mode='markers', marker=dict(size=3),\n",
    "                    name = \"DC\")\n",
    "\n",
    "trace4 = go.Scatter(x= months, \n",
    "                    y = np.nanmedian(df[df[\"State\"]==\"AZ\"][months], axis = 0),\n",
    "                    mode='markers', marker=dict(size=3),\n",
    "                    name = \"AZ\")\n",
    "\n",
    "trace5 = go.Scatter(x= months, \n",
    "                    y = np.nanmedian(df[df[\"State\"]==\"FL\"][months], axis = 0),\n",
    "                    mode='markers', marker=dict(size=3),\n",
    "                    name = \"FL\")\n",
    "\n",
    "trace6 = go.Scatter(x= months, \n",
    "                    y = np.nanmedian(df[df[\"State\"]==\"TX\"][months], axis = 0),\n",
    "                    mode='markers', marker=dict(size=3),\n",
    "                    name = \"TX\")\n",
    "\n",
    "trace7 = go.Scatter(x= months, \n",
    "                    y = np.nanmedian(df[df[\"State\"]==\"IL\"][months], axis = 0), \n",
    "                    mode='markers', marker=dict(size=3),\n",
    "                    name = \"IL\")\n",
    "\n",
    "trace8 = go.Scatter(x= months, \n",
    "                    y = np.nanmedian(df[df[\"State\"]==\"NC\"][months], axis = 0), \n",
    "                    mode='markers', marker=dict(size=3),\n",
    "                    name = \"NC\")\n",
    "\n",
    "trace9 = go.Scatter(x= months, \n",
    "                    y = np.nanmedian(df[df[\"State\"]==\"NV\"][months], axis = 0),\n",
    "                    mode='markers', marker=dict(size=3),\n",
    "                    name = \"NV\")\n",
    "\n",
    "trace10 = go.Scatter(x= months, \n",
    "                    y = np.nanmedian(df[df[\"State\"]==\"OK\"][months], axis = 0),\n",
    "                     mode='markers', marker=dict(size=3),\n",
    "                     name = \"OK\")\n",
    "\n",
    "layout = go.Layout(title = \"Median PPSFT for top 20 States\", xaxis= dict(title = \"PPSFT\"),\n",
    "                  yaxis = dict(title = \"Months\"))\n",
    "data = [trace0, trace1, trace2, trace3, trace4, trace5, trace6, trace7, trace8, trace9, trace10]\n",
    "fig =go.Figure(data=data, layout = layout) \n",
    "py.iplot(fig)"
   ]
  },
  {
   "cell_type": "markdown",
   "metadata": {},
   "source": [
    "unstack"
   ]
  },
  {
   "cell_type": "code",
   "execution_count": null,
   "metadata": {},
   "outputs": [],
   "source": [
    "df2=zillow.iloc[:, 6:]\n",
    "df2['City']=zillow.City\n",
    "df2.set_index('City', inplace=True) \n",
    "df2= df2.unstack().reset_index()\n",
    "df2.columns=['year_month', 'city', 'price']\n",
    "df2"
   ]
  }
 ],
 "metadata": {
  "kernelspec": {
   "display_name": "Python 3",
   "language": "python",
   "name": "python3"
  },
  "language_info": {
   "codemirror_mode": {
    "name": "ipython",
    "version": 3
   },
   "file_extension": ".py",
   "mimetype": "text/x-python",
   "name": "python",
   "nbconvert_exporter": "python",
   "pygments_lexer": "ipython3",
   "version": "3.7.4"
  }
 },
 "nbformat": 4,
 "nbformat_minor": 2
}
