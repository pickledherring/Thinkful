{
 "cells": [
  {
   "cell_type": "markdown",
   "metadata": {},
   "source": [
    "1. If we list all the natural numbers below 10 that are multiples of 3 or 5, we get 3, 5, 6 and 9. The sum of these multiples is 23. Find the sum of all the multiples of 3 or 5 below 1000."
   ]
  },
  {
   "cell_type": "code",
   "execution_count": 3,
   "metadata": {},
   "outputs": [],
   "source": [
    "def multiple_sum(n, m):\n",
    "    return (n**2 + m * n) / (2 * m)"
   ]
  },
  {
   "cell_type": "code",
   "execution_count": 4,
   "metadata": {},
   "outputs": [],
   "source": [
    "multiples_of_3 = multiple_sum(999, 3)\n",
    "multiples_of_5 = multiple_sum(995, 5)\n",
    "multiples_of_15 = multiple_sum(990, 15)"
   ]
  },
  {
   "cell_type": "code",
   "execution_count": 5,
   "metadata": {},
   "outputs": [
    {
     "data": {
      "text/plain": [
       "233168.0"
      ]
     },
     "execution_count": 5,
     "metadata": {},
     "output_type": "execute_result"
    }
   ],
   "source": [
    "multiples_of_3 + multiples_of_5 - multiples_of_15"
   ]
  },
  {
   "cell_type": "markdown",
   "metadata": {},
   "source": [
    "2. By considering the terms in the Fibonacci sequence whose values do not exceed four million, find the sum of the even-valued terms."
   ]
  },
  {
   "cell_type": "code",
   "execution_count": 11,
   "metadata": {},
   "outputs": [],
   "source": [
    "def even_fib_adder(maximum):\n",
    "    sum_of_evens = 2\n",
    "    even_number = 0\n",
    "    fib1 = 1\n",
    "    fib2 = 2\n",
    "    if maximum == 0:\n",
    "        return 0\n",
    "    elif maximum == 2:\n",
    "        return 2\n",
    "    else:\n",
    "        while even_number <= maximum:\n",
    "            sum_of_evens += even_number\n",
    "            for _ in range(3):\n",
    "                fib3 = fib2 + fib1\n",
    "                fib1 = fib2\n",
    "                fib2 = fib3\n",
    "            even_number = fib2\n",
    "        return sum_of_evens"
   ]
  },
  {
   "cell_type": "code",
   "execution_count": 12,
   "metadata": {},
   "outputs": [
    {
     "data": {
      "text/plain": [
       "4613732"
      ]
     },
     "execution_count": 12,
     "metadata": {},
     "output_type": "execute_result"
    }
   ],
   "source": [
    "even_fib_adder(4000000)"
   ]
  },
  {
   "cell_type": "markdown",
   "metadata": {},
   "source": [
    "3. The prime factors of 13,195 are 5, 7, 13 and 29. What is the largest prime factor of the number 600,851,475,143 ?"
   ]
  },
  {
   "cell_type": "code",
   "execution_count": 66,
   "metadata": {},
   "outputs": [],
   "source": [
    "import math\n",
    "def largest_prime_factor(number):\n",
    "    prime = 0\n",
    "    for i in range(3, int(math.sqrt(number)) + 1, 2):\n",
    "        while number % i == 0:\n",
    "            prime = i\n",
    "            number //= i\n",
    "    return number if number > 2 else prime"
   ]
  },
  {
   "cell_type": "code",
   "execution_count": 69,
   "metadata": {
    "scrolled": true
   },
   "outputs": [
    {
     "data": {
      "text/plain": [
       "6857"
      ]
     },
     "execution_count": 69,
     "metadata": {},
     "output_type": "execute_result"
    }
   ],
   "source": [
    "largest_prime_factor(600851475143)"
   ]
  },
  {
   "cell_type": "code",
   "execution_count": null,
   "metadata": {},
   "outputs": [],
   "source": [
    "largest_prime_factor(1157)"
   ]
  },
  {
   "cell_type": "markdown",
   "metadata": {},
   "source": [
    "4. A palindromic number reads the same both ways. The largest palindrome made from the product of two 2-digit numbers is 9009 = 91 × 99. Find the largest palindrome made from the product of two 3-digit numbers."
   ]
  },
  {
   "cell_type": "code",
   "execution_count": 65,
   "metadata": {},
   "outputs": [
    {
     "name": "stdout",
     "output_type": "stream",
     "text": [
      "906609\n",
      "886688\n",
      "888888\n",
      "861168\n",
      "888888\n",
      "861168\n",
      "886688\n",
      "824428\n",
      "906609\n",
      "819918\n",
      "824428\n",
      "819918\n"
     ]
    }
   ],
   "source": [
    "for i in range(999, 900, -1):\n",
    "    for m in range(999, 900, -1):\n",
    "        product = i * m\n",
    "        if product == int(str(product)[::-1]):\n",
    "            print(product)"
   ]
  },
  {
   "cell_type": "markdown",
   "metadata": {},
   "source": [
    "906609 is the largest palindrome"
   ]
  },
  {
   "cell_type": "markdown",
   "metadata": {},
   "source": [
    "5. 2520 is the smallest number that can be divided by each of the numbers from 1 to 10 without any remainder. What is the smallest positive number that is evenly divisible by all of the numbers from 1 to 20?"
   ]
  },
  {
   "cell_type": "code",
   "execution_count": 70,
   "metadata": {},
   "outputs": [
    {
     "data": {
      "text/plain": [
       "21162960"
      ]
     },
     "execution_count": 70,
     "metadata": {},
     "output_type": "execute_result"
    }
   ],
   "source": [
    "1 * 2 * 3 * 2 * 5 * 7 * 2 * 3 * 13 * 2 * 17 * 19"
   ]
  },
  {
   "cell_type": "markdown",
   "metadata": {},
   "source": [
    "6. Find the difference between the sum of the squares of the first one hundred natural numbers and the square of the sum."
   ]
  },
  {
   "cell_type": "code",
   "execution_count": 75,
   "metadata": {},
   "outputs": [
    {
     "data": {
      "text/plain": [
       "25164150"
      ]
     },
     "execution_count": 75,
     "metadata": {},
     "output_type": "execute_result"
    }
   ],
   "source": [
    "sq_sum = 0\n",
    "summed = 0\n",
    "for i in range(1, 101):\n",
    "    sq_sum += i ** 2\n",
    "    summed += i\n",
    "\n",
    "summed ** 2 - sq_sum"
   ]
  },
  {
   "cell_type": "markdown",
   "metadata": {},
   "source": [
    "7. By listing the first six prime numbers: 2, 3, 5, 7, 11, and 13, we can see that the 6th prime is 13. What is the 10,001st prime number?"
   ]
  },
  {
   "cell_type": "code",
   "execution_count": 116,
   "metadata": {},
   "outputs": [
    {
     "data": {
      "text/plain": [
       "104743"
      ]
     },
     "execution_count": 116,
     "metadata": {},
     "output_type": "execute_result"
    }
   ],
   "source": [
    "primes = [2]\n",
    "sieve = [True] * 114321\n",
    "for i in range(2, 114321):\n",
    "    if sieve[i]:\n",
    "        primes.append(i)\n",
    "        for n in range(i * i, 114321, i):\n",
    "            sieve[n] = False\n",
    "            \n",
    "primes[10001]"
   ]
  },
  {
   "cell_type": "code",
   "execution_count": null,
   "metadata": {},
   "outputs": [],
   "source": [
    "sum = 0\n",
    "sieve = [True] * 2000000\n",
    "for i in range(2, 2000000):\n",
    "    if sieve[i]:\n",
    "        sum += i\n",
    "        for n in range(i * i, 2000000, i):\n",
    "            sieve[n] = False"
   ]
  },
  {
   "cell_type": "markdown",
   "metadata": {},
   "source": [
    "8. The four adjacent digits in the 1000-digit number that have the greatest product are 9 × 9 × 8 × 9 = 5832.\n",
    "\n",
    "73167176531330624919225119674426574742355349194934\n",
    "96983520312774506326239578318016984801869478851843\n",
    "85861560789112949495459501737958331952853208805511\n",
    "12540698747158523863050715693290963295227443043557\n",
    "66896648950445244523161731856403098711121722383113\n",
    "62229893423380308135336276614282806444486645238749\n",
    "30358907296290491560440772390713810515859307960866\n",
    "70172427121883998797908792274921901699720888093776\n",
    "65727333001053367881220235421809751254540594752243\n",
    "52584907711670556013604839586446706324415722155397\n",
    "53697817977846174064955149290862569321978468622482\n",
    "83972241375657056057490261407972968652414535100474\n",
    "82166370484403199890008895243450658541227588666881\n",
    "16427171479924442928230863465674813919123162824586\n",
    "17866458359124566529476545682848912883142607690042\n",
    "24219022671055626321111109370544217506941658960408\n",
    "07198403850962455444362981230987879927244284909188\n",
    "84580156166097919133875499200524063689912560717606\n",
    "05886116467109405077541002256983155200055935729725\n",
    "71636269561882670428252483600823257530420752963450\n",
    "\n",
    "Find the thirteen adjacent digits in the 1000-digit number that have the greatest product. What is the value of this product?"
   ]
  },
  {
   "cell_type": "code",
   "execution_count": 88,
   "metadata": {},
   "outputs": [
    {
     "name": "stdout",
     "output_type": "stream",
     "text": [
      "[5, 5, 7, 6, 6, 8, 9, 6, 6, 4, 8, 9] 4702924800\n"
     ]
    }
   ],
   "source": [
    "import numpy as np\n",
    "\n",
    "number = 7316717653133062491922511967442657474235534919493496983520312774506326239578318016984801869478851843858615607891129494954595017379583319528532088055111254069874715852386305071569329096329522744304355766896648950445244523161731856403098711121722383113622298934233803081353362766142828064444866452387493035890729629049156044077239071381051585930796086670172427121883998797908792274921901699720888093776657273330010533678812202354218097512545405947522435258490771167055601360483958644670632441572215539753697817977846174064955149290862569321978468622482839722413756570560574902614079729686524145351004748216637048440319989000889524345065854122758866688116427171479924442928230863465674813919123162824586178664583591245665294765456828489128831426076900422421902267105562632111110937054421750694165896040807198403850962455444362981230987879927244284909188845801561660979191338754992005240636899125607176060588611646710940507754100225698315520005593572972571636269561882670428252483600823257530420752963450\n",
    "number = [int(x) for x in str(number)]\n",
    "\n",
    "max_product = 0\n",
    "numbers = []\n",
    "for i in range(len(number) - 13):\n",
    "    product = np.prod(number[i:i + 12])\n",
    "    if product > max_product:\n",
    "        max_product = product\n",
    "        numbers = number[i:i + 12]\n",
    "    \n",
    "print(numbers, max_product)"
   ]
  },
  {
   "cell_type": "markdown",
   "metadata": {},
   "source": [
    "9. A Pythagorean triplet is a set of three natural numbers, a < b < c, for which,\n",
    "\n",
    "a^2 + b^2 = c^2\n",
    "\n",
    "There exists exactly one Pythagorean triplet for which a + b + c = 1000.\n",
    "Find the product abc."
   ]
  },
  {
   "cell_type": "code",
   "execution_count": 91,
   "metadata": {},
   "outputs": [
    {
     "name": "stdout",
     "output_type": "stream",
     "text": [
      "200 375 425 31875000\n"
     ]
    }
   ],
   "source": [
    "for num1 in range(1, 1000):\n",
    "    for num2 in range(num1, 1000 - num1):\n",
    "        num3 = 1000 - num1 - num2\n",
    "        if num1 ** 2 + num2 ** 2 == num3 ** 2:\n",
    "            print(num1, num2, num3, num1 * num2 * num3)"
   ]
  },
  {
   "cell_type": "markdown",
   "metadata": {},
   "source": [
    "10. The sum of the primes below 10 is 2 + 3 + 5 + 7 = 17. Find the sum of all the primes below two million."
   ]
  },
  {
   "cell_type": "code",
   "execution_count": 102,
   "metadata": {},
   "outputs": [
    {
     "data": {
      "text/plain": [
       "142913828922"
      ]
     },
     "execution_count": 102,
     "metadata": {},
     "output_type": "execute_result"
    }
   ],
   "source": [
    "sum = 0\n",
    "sieve = [True] * 2000000\n",
    "for i in range(2, 2000000):\n",
    "    if sieve[i]:\n",
    "        sum += i\n",
    "        for n in range(i * i, 2000000, i):\n",
    "            sieve[n] = False\n",
    "sum"
   ]
  }
 ],
 "metadata": {
  "kernelspec": {
   "display_name": "Python 3",
   "language": "python",
   "name": "python3"
  }
 },
 "nbformat": 4,
 "nbformat_minor": 2
}
