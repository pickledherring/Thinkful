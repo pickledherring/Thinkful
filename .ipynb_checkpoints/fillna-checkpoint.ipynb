{
 "cells": [
  {
   "cell_type": "code",
   "execution_count": 1,
   "metadata": {},
   "outputs": [],
   "source": [
    "import pandas as pd\n",
    "import numpy as np\n",
    "import statistics\n",
    "from sqlalchemy import create_engine"
   ]
  },
  {
   "cell_type": "code",
   "execution_count": 2,
   "metadata": {},
   "outputs": [
    {
     "name": "stderr",
     "output_type": "stream",
     "text": [
      "/usr/local/lib/python3.7/site-packages/pandas/core/generic.py:6130: SettingWithCopyWarning: \n",
      "A value is trying to be set on a copy of a slice from a DataFrame\n",
      "\n",
      "See the caveats in the documentation: http://pandas.pydata.org/pandas-docs/stable/indexing.html#indexing-view-versus-copy\n",
      "  self._update_inplace(new_data)\n"
     ]
    },
    {
     "data": {
      "text/plain": [
       "52       727716.0\n",
       "53       121156.0\n",
       "54       676297.0\n",
       "55       311432.0\n",
       "56      5129788.0\n",
       "57       539538.0\n",
       "58       471918.0\n",
       "59       104355.0\n",
       "60        80937.0\n",
       "61      1980569.0\n",
       "62       893557.0\n",
       "63       177448.0\n",
       "64       231632.0\n",
       "65      1856841.0\n",
       "66       958052.0\n",
       "67       493957.0\n",
       "68       451469.0\n",
       "69       489281.0\n",
       "70       795719.0\n",
       "71       211511.0\n",
       "72       751850.0\n",
       "73       862495.0\n",
       "75      1600650.0\n",
       "76       781566.0\n",
       "77       329408.0\n",
       "78       834636.0\n",
       "79       158875.0\n",
       "80       281354.0\n",
       "81       222846.0\n",
       "82       177722.0\n",
       "83       653488.0\n",
       "84       281407.0\n",
       "85      2663637.0\n",
       "86      1112636.0\n",
       "87       118793.0\n",
       "88      1834239.0\n",
       "89       312817.0\n",
       "90       509814.0\n",
       "91      1719829.0\n",
       "92       138939.0\n",
       "93       631613.0\n",
       "94       107050.0\n",
       "95       844668.0\n",
       "96      3535333.0\n",
       "97       462323.0\n",
       "98        97454.0\n",
       "99      1032842.0\n",
       "100      896197.0\n",
       "101      317719.0\n",
       "102      829085.0\n",
       "103      100313.0\n",
       "1400          NaN\n",
       "1401          NaN\n",
       "1402          NaN\n",
       "1403          NaN\n",
       "1404          NaN\n",
       "Name: ENROLL, dtype: float64"
      ]
     },
     "execution_count": 2,
     "metadata": {},
     "output_type": "execute_result"
    }
   ],
   "source": [
    "postgres_user = 'dsbc_student'\n",
    "postgres_pw = '7*.8G9QH21'\n",
    "postgres_host = '142.93.121.174'\n",
    "postgres_port = '5432'\n",
    "postgres_db = 'useducation'\n",
    "\n",
    "engine = create_engine('postgresql://{}:{}@{}:{}/{}'.format(\n",
    "    postgres_user, postgres_pw, postgres_host, postgres_port, postgres_db))\n",
    "\n",
    "df = pd.read_sql_query('select * from useducation',con=engine)\n",
    "\n",
    "engine.dispose()\n",
    "\n",
    "df2 = df.copy()\n",
    "df2[df2.YEAR == 1993]['ENROLL'].fillna(0.0, inplace=True)\n",
    "\n",
    "df2.loc[df2.YEAR == 1993, \"ENROLL\"]"
   ]
  },
  {
   "cell_type": "markdown",
   "metadata": {},
   "source": [
    "Here's an alternate method from the answer sheet that also doesn't work:"
   ]
  },
  {
   "cell_type": "code",
   "execution_count": null,
   "metadata": {},
   "outputs": [],
   "source": [
    "df2 = df.copy()\n",
    "\n",
    "years = df2[\"YEAR\"].unique()\n",
    "\n",
    "for col in list(df2.columns[3:]):\n",
    "    for year in years:\n",
    "        df2.loc[df2.YEAR == year, col].fillna(\n",
    "            df2[df2.YEAR == year][col].mean(), inplace=True)"
   ]
  }
 ],
 "metadata": {
  "kernelspec": {
   "display_name": "Python 3",
   "language": "python",
   "name": "python3"
  },
  "language_info": {
   "codemirror_mode": {
    "name": "ipython",
    "version": 3
   },
   "file_extension": ".py",
   "mimetype": "text/x-python",
   "name": "python",
   "nbconvert_exporter": "python",
   "pygments_lexer": "ipython3",
   "version": "3.7.4"
  }
 },
 "nbformat": 4,
 "nbformat_minor": 2
}
