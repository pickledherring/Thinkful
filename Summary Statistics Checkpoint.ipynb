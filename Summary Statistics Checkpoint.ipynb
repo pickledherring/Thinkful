{
 "cells": [
  {
   "cell_type": "code",
   "execution_count": 2,
   "metadata": {},
   "outputs": [],
   "source": [
    "import pandas as pd\n",
    "import numpy as np\n",
    "import statistics"
   ]
  },
  {
   "cell_type": "markdown",
   "metadata": {},
   "source": [
    "Create a dataframe with the names and ages of the characters."
   ]
  },
  {
   "cell_type": "code",
   "execution_count": 3,
   "metadata": {},
   "outputs": [],
   "source": [
    "names = ['Greg', 'Marcia', 'Peter', 'Jan', 'Bobby', 'Cindy', 'Oliver']\n",
    "b_b = pd.DataFrame(index=names)\n",
    "b_b['age'] = [14, 12, 11, 10, 8, 6, 8]"
   ]
  },
  {
   "cell_type": "markdown",
   "metadata": {},
   "source": [
    "Mean, median, mode of their ages on their first appearance,then variance, standard deviation, and standard error."
   ]
  },
  {
   "cell_type": "code",
   "execution_count": 4,
   "metadata": {},
   "outputs": [
    {
     "name": "stdout",
     "output_type": "stream",
     "text": [
      "Mean is : 9.857142857142858\n",
      "Median is : 10.0\n",
      "Mode is : 8\n"
     ]
    }
   ],
   "source": [
    "mean = np.mean(b_b['age'])\n",
    "median = np.median(b_b['age'])\n",
    "mode = statistics.mode(b_b['age'])\n",
    "print('Mean is :', mean)\n",
    "print('Median is :', median)\n",
    "print('Mode is :', mode)"
   ]
  },
  {
   "cell_type": "code",
   "execution_count": 5,
   "metadata": {},
   "outputs": [
    {
     "name": "stdout",
     "output_type": "stream",
     "text": [
      "Variance is : 6.408163265306122\n",
      "Standard deviation is : 2.734262327610589\n",
      "Standard error is : 1.0334540197243192\n"
     ]
    }
   ],
   "source": [
    "variance = np.var(b_b['age'])\n",
    "std_dev = np.std(b_b['age'], ddof=1)\n",
    "std_err = std_dev/np.sqrt(len(b_b['age']))\n",
    "print('Variance is :', variance)\n",
    "print('Standard deviation is :', std_dev)\n",
    "print('Standard error is :', std_err)"
   ]
  },
  {
   "cell_type": "markdown",
   "metadata": {},
   "source": [
    "The mean is the most reliable estimate of central tendency in this case because the data has no outliers. The mean should provide a more accurate estimate than either the mode or median by nature.\n",
    "\n",
    "Standard deviation seems to capture the variability more accurately. The standard error wouldn't apply well here because the data is of the population, not a sample. Variance might be a better candidat than standard deviation, but the variance added to or subtracted from the mean is larger than the range."
   ]
  },
  {
   "cell_type": "markdown",
   "metadata": {},
   "source": [
    "Update Cindy's age by one."
   ]
  },
  {
   "cell_type": "code",
   "execution_count": 6,
   "metadata": {},
   "outputs": [
    {
     "name": "stdout",
     "output_type": "stream",
     "text": [
      "age    7\n",
      "Name: Cindy, dtype: int64\n"
     ]
    }
   ],
   "source": [
    "b_b.loc['Cindy'] += 1\n",
    "print(b_b.loc['Cindy']) "
   ]
  },
  {
   "cell_type": "markdown",
   "metadata": {},
   "source": [
    "After updating her age, the mean and median are now a nice round number. Due to her age increase, the data is more centralized, asevidenced bu the lower variability."
   ]
  },
  {
   "cell_type": "code",
   "execution_count": 7,
   "metadata": {},
   "outputs": [
    {
     "name": "stdout",
     "output_type": "stream",
     "text": [
      "Mean is : 10.0\n",
      "Median is : 10.0\n",
      "Mode is : 8\n",
      "Variance is : 5.428571428571429\n",
      "Standard deviation is : 2.516611478423583\n",
      "Standard error is : 0.9511897312113418\n"
     ]
    }
   ],
   "source": [
    "mean = np.mean(b_b['age'])\n",
    "median = np.median(b_b['age'])\n",
    "mode = statistics.mode(b_b['age'])\n",
    "print('Mean is :', mean)\n",
    "print('Median is :', median)\n",
    "print('Mode is :', mode)\n",
    "\n",
    "variance = np.var(b_b['age'])\n",
    "std_dev = np.std(b_b['age'], ddof=1)\n",
    "std_err = std_dev/np.sqrt(len(b_b['age']))\n",
    "print('Variance is :', variance)\n",
    "print('Standard deviation is :', std_dev)\n",
    "print('Standard error is :', std_err)"
   ]
  },
  {
   "cell_type": "markdown",
   "metadata": {},
   "source": [
    "Replacing Cousin Oliver with Jessica."
   ]
  },
  {
   "cell_type": "code",
   "execution_count": 8,
   "metadata": {},
   "outputs": [],
   "source": [
    "b_b.rename(index = {'Oliver': 'Jessica'}, inplace = True)\n",
    "b_b.loc['Jessica'] = 1\n",
    "b_b"
   ]
  },
  {
   "cell_type": "markdown",
   "metadata": {},
   "source": [
    "Rerunning the central tendency and variance estimators. There is no longer a mode, so that's out for best central tendency estimator. Jessica is an outlier, so median is now be a better estimator.\n",
    "Standard deviation is still my candidate for best variability estimator."
   ]
  },
  {
   "cell_type": "code",
   "execution_count": 15,
   "metadata": {},
   "outputs": [
    {
     "name": "stdout",
     "output_type": "stream",
     "text": [
      "Mean is : 9.0\n",
      "Median is : 10.0\n",
      "Mode is : no mode\n",
      "Variance is : 15.428571428571429\n",
      "Standard deviation is : 4.242640687119285\n",
      "Standard error is : 1.6035674514745462\n"
     ]
    }
   ],
   "source": [
    "mean = np.mean(b_b['age'])\n",
    "median = np.median(b_b['age'])\n",
    "try:\n",
    "    mode = statistics.mode(b_b['age'])\n",
    "    \n",
    "except:\n",
    "    mode = 'no mode'\n",
    "    \n",
    "print('Mean is :', mean)\n",
    "print('Median is :', median)\n",
    "print('Mode is :', mode)\n",
    "\n",
    "variance = np.var(b_b['age'])\n",
    "std_dev = np.std(b_b['age'], ddof=1)\n",
    "std_err = std_dev/np.sqrt(len(b_b['age']))\n",
    "print('Variance is :', variance)\n",
    "print('Standard deviation is :', std_dev)\n",
    "print('Standard error is :', std_err)"
   ]
  },
  {
   "cell_type": "markdown",
   "metadata": {},
   "source": [
    "Create an array of the perent of fans, then take the mean and standard error. Mean is 16.25%, and standard error is 3.42%, that is, between 12.83 and 19.67 percent of adult Americans were fans of the show on its 50th anniversary."
   ]
  },
  {
   "cell_type": "code",
   "execution_count": 22,
   "metadata": {},
   "outputs": [
    {
     "name": "stdout",
     "output_type": "stream",
     "text": [
      "Mean is 0.16250000000000003\n",
      "Standard error is 0.03416412592179112\n"
     ]
    }
   ],
   "source": [
    "fans = np.array([.2, .23, .17, .05])\n",
    "print('Mean is', np.mean(fans))\n",
    "print('Standard error is', np.std(fans)/2)"
   ]
  }
 ],
 "metadata": {
  "kernelspec": {
   "display_name": "Python 3",
   "language": "python",
   "name": "python3"
  },
  "language_info": {
   "codemirror_mode": {
    "name": "ipython",
    "version": 3
   },
   "file_extension": ".py",
   "mimetype": "text/x-python",
   "name": "python",
   "nbconvert_exporter": "python",
   "pygments_lexer": "ipython3",
   "version": "3.7.3"
  }
 },
 "nbformat": 4,
 "nbformat_minor": 2
}
